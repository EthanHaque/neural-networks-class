{
 "metadata": {
  "language_info": {
   "codemirror_mode": {
    "name": "ipython",
    "version": 3
   },
   "file_extension": ".py",
   "mimetype": "text/x-python",
   "name": "python",
   "nbconvert_exporter": "python",
   "pygments_lexer": "ipython3",
   "version": 3
  },
  "orig_nbformat": 2
 },
 "nbformat": 4,
 "nbformat_minor": 2,
 "cells": [
  {
   "cell_type": "code",
   "execution_count": null,
   "metadata": {},
   "outputs": [],
   "source": [
    "import torch\n",
    "import torch.nn as nn"
   ]
  },
  {
   "cell_type": "code",
   "execution_count": null,
   "metadata": {},
   "outputs": [],
   "source": [
    "class Generator(nn.Module):\n",
    "    def __init__(self):\n",
    "        super()\n",
    "        self.net = nn.Sequential(\n",
    "            nn.ConvTranspose2d( 200, 32 * 8, 4, 1, 0, bias=False),\n",
    "            nn.BatchNorm2d(32 * 8),\n",
    "            nn.ReLU(),\n",
    "            nn.ConvTranspose2d(32 * 8, 32 * 4, 4, 2, 1, bias=False),\n",
    "            nn.BatchNorm2d(32 * 4),\n",
    "            nn.ReLU(),\n",
    "            nn.ConvTranspose2d( 32 * 4, 32 * 2, 4, 2, 1, bias=False),\n",
    "            nn.BatchNorm2d(32 * 2),\n",
    "            nn.ReLU(),\n",
    "            nn.ConvTranspose2d( 32 * 2, 32, 4, 2, 1, bias=False),\n",
    "            nn.BatchNorm2d(32),\n",
    "            nn.ReLU(),\n",
    "            nn.ConvTranspose2d( 32, 1, 4, 2, 1, bias=False),\n",
    "            nn.Tanh()\n",
    "        )\n",
    "    def forward(self, tens):\n",
    "        return self.net(tens)"
   ]
  },
  {
   "cell_type": "code",
   "execution_count": null,
   "metadata": {},
   "outputs": [],
   "source": [
    "class Discriminator(nn.Module):\n",
    "    def __init__(self):\n",
    "        super()\n",
    "        self.net = nn.Sequential(\n",
    "            nn.Conv2d(1, 32, 4, 2, 1, bias=False),\n",
    "            nn.LeakyReLU(0.2),\n",
    "            nn.Conv2d(32, 32 * 2, 4, 2, 1, bias=False),\n",
    "            nn.BatchNorm2d(32 * 2),\n",
    "            nn.LeakyReLU(0.2),\n",
    "            nn.Conv2d(32 * 2, 32 * 4, 4, 2, 1, bias=False),\n",
    "            nn.BatchNorm2d(32 * 4),\n",
    "            nn.LeakyReLU(0.2),\n",
    "            # state size. (32*4) x 8 x 8\n",
    "            nn.Conv2d(32 * 4, 32 * 8, 4, 2, 1, bias=False),\n",
    "            nn.BatchNorm2d(32 * 8),\n",
    "            nn.LeakyReLU(0.2),\n",
    "            # state size. (32*8) x 4 x 4\n",
    "            nn.Conv2d(32 * 8, 1, 4, 1, 0, bias=False),\n",
    "            nn.Sigmoid()\n",
    "        )\n",
    "\n",
    "    def forward(self, tens):\n",
    "        return self.net(tens)"
   ]
  },
  {
   "cell_type": "code",
   "execution_count": null,
   "metadata": {},
   "outputs": [],
   "source": [
    "def train(netD, netG, loader, loss_func, optimizerD, optimizerG, num_epochs):\n",
    "    netD.train()\n",
    "    netG.train()\n",
    "    device = \"cuda:0\" if torch.cuda.is_available() else \"cpu\"\n",
    "    for epoch in range(num_epochs):\n",
    "        for i, data in enumerate(loader, 0):\n",
    "            netD.zero_grad()\n",
    "            realtens = data[0].to(device)\n",
    "            b_size = realtens.size(0)\n",
    "            label = torch.full((b_size,), 1, dtype=torch.float, device=device) # gen labels\n",
    "            output = netD(realtens)\n",
    "            errD_real = loss_func(output, label)\n",
    "            errD_real.backward() # backprop discriminator fake and real based on label\n",
    "            noise = torch.randn(b_size, 200, 1, 1, device=device)\n",
    "            fake = netG(noise)\n",
    "            label.fill_(0)\n",
    "            output = netD(fake.detach()).view(-1)\n",
    "            errD_fake = loss_func(output, label)\n",
    "            errD_fake.backward() # backprop discriminator fake and real based on label\n",
    "            errD = errD_real + errD_fake # discriminator error\n",
    "            optimizerD.step()\n",
    "            netG.zero_grad()\n",
    "            label.fill_(1)  \n",
    "            output = netD(fake).view(-1)\n",
    "            errG = loss_func(output, label) # generator error\n",
    "            errG.backward()\n",
    "            optimizerG.step()"
   ]
  }
 ]
}