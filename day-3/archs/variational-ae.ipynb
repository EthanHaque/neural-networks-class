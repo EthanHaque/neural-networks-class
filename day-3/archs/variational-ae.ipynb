{
 "metadata": {
  "language_info": {
   "codemirror_mode": {
    "name": "ipython",
    "version": 3
   },
   "file_extension": ".py",
   "mimetype": "text/x-python",
   "name": "python",
   "nbconvert_exporter": "python",
   "pygments_lexer": "ipython3",
   "version": 3
  },
  "orig_nbformat": 2
 },
 "nbformat": 4,
 "nbformat_minor": 2,
 "cells": [
  {
   "cell_type": "code",
   "execution_count": null,
   "metadata": {},
   "outputs": [],
   "source": [
    "import torch\n",
    "from torch import nn"
   ]
  },
  {
   "cell_type": "code",
   "execution_count": null,
   "metadata": {},
   "outputs": [],
   "source": [
    "tensor_size = 200 # all dims mul, just placeholder here\n",
    "class VariationalAutoEncoder(nn.module):\n",
    "    def __init__(self):\n",
    "        super(autoencoder, self).__init__()\n",
    "        self.encoder = nn.Sequential(\n",
    "            nn.Linear(tensor_size, (3 * tensor_size) / 4),\n",
    "            nn.LeakyReLU(),\n",
    "            nn.Linear((3 * tensor_size) / 4, (3 * tensor_size) / 6),\n",
    "            nn.LeakyReLU(), \n",
    "            nn.Linear((3 * tensor_size) / 6, (3 * tensor_size) / 8),\n",
    "            nn.LeakyReLU(),\n",
    "            nn.Linear((3 * tensor_size) / 8, (3 * tensor_size) / 10)\n",
    "        )\n",
    "        self.reparamMean = nn.Linear((3 * tensor_size) / 10), (3 * tensor_size) / 12))\n",
    "        self.reparamLogVarm = nn.Linear((3 * tensor_size) / 10), (3 * tensor_size) / 12))\n",
    "        self.decoder = nn.Sequential(\n",
    "            nn.Linear((3 * tensor_size) / 12, (3 * tensor_size) / 10),\n",
    "            nn.LeakyReLU,\n",
    "            nn.Linear((3 * tensor_size) / 10, (3 * tensor_size) / 8),\n",
    "            nn.LeakyReLU(),\n",
    "            nn.Linear((3 * tensor_size) / 8, (3 * tensor_size) / 6),\n",
    "            nn.LeakyReLU(),\n",
    "            nn.Linear((3 * tensor_size) / 6, (3 * tensor_size) / 4),\n",
    "            nn.LeakyReLU(),\n",
    "            nn.Linear((3 * tensor_size) / 4, tensor_size), \n",
    "            nn.Sigmoid()\n",
    "        )\n",
    "    def reparam(mean, logvarm):\n",
    "        \"\"\"Reparametrize for the Variational part of VAE (when training)\"\"\"\n",
    "        if self.training: \n",
    "            stdev = torch.exp(torch.mul(0.5, logvarm)) \n",
    "            eps = torch.normal(mean, stdev)\n",
    "            return torch.add(torch.mul(eps, stdev), mean)\n",
    "        else: \n",
    "            return mean\n",
    "    def forward(self, x):\n",
    "        l1 = self.encode(x)\n",
    "        mean, logvarm = self.reparamMean(l1), self.reparamLogVarm(l1)\n",
    "        reparam = self.reparam(mean, logvarm)\n",
    "        return self.decode(reparam), mean, logvarm"
   ]
  },
  {
   "cell_type": "code",
   "execution_count": null,
   "metadata": {},
   "outputs": [],
   "source": [
    "device = torch.device(\"cuda:0\" if torch.cuda.is_available() else \"cpu\")\n",
    "resuming = False\n",
    "epochs = 400\n",
    "learning_rate = 1e-2\n",
    "loss_func = nn.MSELoss()\n",
    "net = VariationalAutoEncoder().to(device)\n",
    "optimizer = torch.optim.Adam(net.parameters(), lr=learning_rate)"
   ]
  },
  {
   "cell_type": "code",
   "execution_count": null,
   "metadata": {},
   "outputs": [],
   "source": [
    "torch.manual_seed(42)\n",
    "if os.path.isfile('models/interim_model.tar'):\n",
    "    resuming = True\n",
    "    checkpoint = torch.load('models/interim_model.tar')\n",
    "    net.load_state_dict(checkpoint['model_state_dict'])\n",
    "    optimizer.load_state_dict(checkpoint['optimizer_state_dict'])\n",
    "    epoch = checkpoint['epoch']\n",
    "    loss1 = checkpoint['loss']\n",
    "for t in range(epochs):\n",
    "    if resuming:\n",
    "        it = epoch + t\n",
    "        loss = loss1\n",
    "    else: \n",
    "        it = t\n",
    "    prediction, mean, logparm = net(x)   \n",
    "    ae_loss = loss_func(prediction, x)\n",
    "    kl_loss = nn.functional.kl_div(logparm, mean)\n",
    "    # NOTE TO SELF: https://en.wikipedia.org/wiki/Kullback%E2%80%93Leibler_divergence\n",
    "    loss = ae_loss + kl_loss\n",
    "    optimizer.zero_grad()   \n",
    "    loss.backward()         \n",
    "    optimizer.step()        \n",
    "    if it % 100 == 99:\n",
    "        print(\"Epoch: \", t, \"Loss: \", loss.item())\n",
    "        torch.save({\n",
    "            'epoch': it,\n",
    "            'model_state_dict': net.state_dict(),\n",
    "            'optimizer_state_dict': optimizer.state_dict(),\n",
    "            'loss': loss,\n",
    "        }, \"models/interim_model.tar\")\n",
    "copyfile(\"models/interim_model.tar\", \"models/final_model.tar\")\n",
    "print('Done!')"
   ]
  }
 ]
}