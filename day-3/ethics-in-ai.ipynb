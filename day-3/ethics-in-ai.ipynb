{
 "cells": [
  {
   "cell_type": "markdown",
   "metadata": {},
   "source": [
    "# Ethics in AI"
   ]
  },
  {
   "cell_type": "markdown",
   "metadata": {},
   "source": [
    "The ethics of AI is concerned with humans' moral behavior as we design, make, and use artificially intelligent systems. What exactly qualifies an artificially intelligent system is an important question. However, we'll limit ourselves to computer models with some powerful predictive power for this conversation."
   ]
  },
  {
   "cell_type": "markdown",
   "metadata": {},
   "source": [
    "### Why This is Important"
   ]
  },
  {
   "cell_type": "markdown",
   "metadata": {},
   "source": [
    "The analysis of sensitive/personal data on large scales has drawn many concerns over the past few decades. The way artificially intelligent systems are designed affects nearly every person alive. From the kinds of media you consume online to becoming the victim of a biased AI system, the way these systems perform profoundly impact our lives."
   ]
  },
  {
   "cell_type": "markdown",
   "metadata": {},
   "source": [
    "###  Privacy & Surveillance\n"
   ]
  },
  {
   "cell_type": "markdown",
   "metadata": {},
   "source": [
    "If you think about it, a large portion of your life is stored somewhere in the world. From photos and videos of yourself and people close to you to your personal information like your birthdate, social security number, browsing habits, and conversations, your personal information is distributed worldwide. Our data is the price we pay for supposedly free services. You or I do not have much control over how that information is used. So, it is ultimately up to the people who collect our information to decide how to use it. "
   ]
  },
  {
   "cell_type": "markdown",
   "metadata": {},
   "source": [
    "With the rise of intelligent systems, it is becoming easier and faster to sort through all of this information to use it to, in a sense, manipulate you. For example, using face recognition technology to profile individuals allows someone to search for you more easily. Facebook uses several sneaky techniques to track what webpages you visit outside of Facebook to squeeze more information out from you. Facebook also recently settled a class-action lawsuit because they \"collected and stored the biometric data of Facebook users in Illinois without the proper notice and consent in violation of Illinois law.\" These things happen all the time, and if we have a right to own our private information, you could argue that we have lost that right. "
   ]
  },
  {
   "cell_type": "markdown",
   "metadata": {},
   "source": [
    "### Manipulation of Behaviour"
   ]
  },
  {
   "cell_type": "markdown",
   "metadata": {},
   "source": [
    "A company merely storing and collecting your data is not a reason to worry. After all, there is a minimum amount of information any person would need to provide you a service. However, when this information is used to manipulate our behavior, it should be concerning. AI systems allow this kind of manipulation to be automated on a larger scale than was possible before. For example, distributing targeted political propaganda on social media to influence voters. Out of the growing number of examples of this practice, the Nancy Pelosi deepfake is one of the more famous. It portrayed her as intoxicated and sparked outrage on the internet. However, that video was manipulated and debunked by several news outlets. "
   ]
  },
  {
   "cell_type": "markdown",
   "metadata": {},
   "source": [
    "There is a trade-off for consumers between the quality of a product they receive and the amount of their data used to develop that product. It is reasonable to assume that the more data that inform the creation and development of a product, the better that product could be. However, the amount of personal information used borders on an invasion of privacy at a certain point."
   ]
  },
  {
   "cell_type": "markdown",
   "metadata": {},
   "source": [
    "### \"Black Box\" AI"
   ]
  },
  {
   "cell_type": "markdown",
   "metadata": {},
   "source": [
    "Often, the models used to generate manipulative predictions on the large scales that we are talking about are \"black boxes.\" We do not know what the inputs to those systems are, and we do not know what operations are performed on those inputs. In addition, in NN's case, it is extremely hard to understand what things your system is learning from the data used to train it. This can lead to unintentional bias in your systems."
   ]
  },
  {
   "cell_type": "markdown",
   "metadata": {},
   "source": [
    "### Bias"
   ]
  },
  {
   "cell_type": "markdown",
   "metadata": {},
   "source": [
    "The term bias could mean many things when it comes to predictive models. Some forms of bias are much less harmful than others. But, when people talk about bias in AI systems, they are generally talking about the dangerous forms that can deny you bail, lower your priority for life-saving treatments, or take away resources like policing from neighborhoods deemed safer than others. "
   ]
  },
  {
   "cell_type": "markdown",
   "metadata": {},
   "source": [
    "Humans also tend to interpret the output of a model in non-objective terms. While the output of a system might be unbiased, the human component of all this and our ability to easily misinterpret information adds another level of bias. "
   ]
  },
  {
   "cell_type": "markdown",
   "metadata": {},
   "source": [
    "Bias can start at the creation of your dataset too. Sometimes, if pre-existing bias exists in your dataset, that bias is perpetuated through your system's predictive power. "
   ]
  },
  {
   "cell_type": "markdown",
   "metadata": {},
   "source": [
    "### Singularity"
   ]
  },
  {
   "cell_type": "markdown",
   "metadata": {},
   "source": [
    "Will it happen any time soon? Probably not. Could it happen? It is possible after all."
   ]
  }
 ],
 "metadata": {
  "kernelspec": {
   "display_name": "Python 3",
   "language": "python",
   "name": "python3"
  },
  "language_info": {
   "codemirror_mode": {
    "name": "ipython",
    "version": 3
   },
   "file_extension": ".py",
   "mimetype": "text/x-python",
   "name": "python",
   "nbconvert_exporter": "python",
   "pygments_lexer": "ipython3",
   "version": "3.8.3"
  }
 },
 "nbformat": 4,
 "nbformat_minor": 4
}
