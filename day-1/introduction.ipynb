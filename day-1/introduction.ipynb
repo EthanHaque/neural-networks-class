{
 "cells": [
  {
   "cell_type": "markdown",
   "metadata": {},
   "source": [
    "# Welcome to \"Introduction to Neural Networks with Python led by Epoch\"\n",
    "\n",
    "***\n",
    "\n"
   ]
  },
  {
   "cell_type": "markdown",
   "metadata": {},
   "source": [
    "# Who we are\n",
    "\n",
    "### Ethan Haque (ehaque@imsa.edu)\n",
    "- CEO of Epoch and one of your instructors.\n",
    "\n",
    "\n",
    "### Dev Singh (dsingh@imsa.edu)\n",
    "- CTO of Epoch and one of your instructors.\n",
    "\n",
    "\n",
    "### Anthony Stuckey (astuckey@imsa.edu)\n",
    "- Network Engineer at IMSA.\n",
    "- Generous sponsor of this Intersession!\n",
    "- Thank you!\n",
    "\n"
   ]
  },
  {
   "cell_type": "markdown",
   "metadata": {},
   "source": [
    "***"
   ]
  },
  {
   "cell_type": "markdown",
   "metadata": {},
   "source": [
    "# The Goal of This Intersession \n",
    "\n",
    "By the end of these three days: \n",
    "1. You will have seen several fun examples of how you can use neural networks in your projects\n",
    "2. You will have a good idea of how to use neural networks in your own projects"
   ]
  },
  {
   "cell_type": "markdown",
   "metadata": {},
   "source": [
    "***"
   ]
  },
  {
   "cell_type": "markdown",
   "metadata": {},
   "source": [
    "# Schedule by Day\n",
    "See the [Readme](../README.md) for our day-by-day outline."
   ]
  },
  {
   "cell_type": "markdown",
   "metadata": {},
   "source": [
    "***"
   ]
  }
 ],
 "metadata": {
  "kernelspec": {
   "display_name": "Python 3",
   "language": "python",
   "name": "python3"
  },
  "language_info": {
   "codemirror_mode": {
    "name": "ipython",
    "version": 3
   },
   "file_extension": ".py",
   "mimetype": "text/x-python",
   "name": "python",
   "nbconvert_exporter": "python",
   "pygments_lexer": "ipython3",
   "version": "3.8.3"
  }
 },
 "nbformat": 4,
 "nbformat_minor": 4
}
