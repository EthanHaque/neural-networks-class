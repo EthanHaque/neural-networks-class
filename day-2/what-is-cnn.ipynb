{
 "cells": [
  {
   "cell_type": "markdown",
   "metadata": {},
   "source": [
    "# What is a Convolutional Neuron?"
   ]
  },
  {
   "cell_type": "markdown",
   "metadata": {},
   "source": [
    "Yesterday, we discussed the concept of a Linear Neuron - essentially applying y=mx+b to a lot of elements. However, research has shown that linear neurons are not particulary effective at learning features of images or videos because images aren't really designed to be interpreted in that fashion. Images aren't viewed pixel-by-pixel, but rather portions are viewed at once. Convolutional Neurons were first introduced in the 1980s by Yann LeCun, then a researcher at AT&T research (back when that was a big deal, he's now at FAIR). "
   ]
  },
  {
   "cell_type": "markdown",
   "metadata": {},
   "source": [
    "The goal of CNNs is to enable machines to view the world as humans do, perceive it in a similar manner and even use the knowledge for a multitude of tasks such as Image & Video recognition. It still uses the concepts of weights and biases, but they are not interpreted one by one.\n",
    "\n",
    "CNNs take in bigger parts of the images throughout so that they can process more complex images other than numbers, such as persons or places. A ConvNet is able to successfully capture the Spatial and Temporal dependencies (or time and space) in an image or video through the application of relevant filters."
   ]
  },
  {
   "cell_type": "markdown",
   "metadata": {},
   "source": [
    "The goal of a CNN is to reduce the size of a matrix that represents an image into a form that is easy to process, while keeping all the relevant information that a computer needs to classify the image. This reduction is important to process large images and videos. It is the feature learning part of the CNN - it doesn't make classifications, but rather aids the network in making those classifications. The objective of the Convolution Operation is to extract the high-level features such as edges, from the input image. "
   ]
  },
  {
   "cell_type": "markdown",
   "metadata": {},
   "source": [
    "![Overview of how convolutional layers are used in CNNs](https://github.com/epochml/epoch_intersession_2020-2021/blob/master/images/what-is-cnn/overview.jpg?raw=true)"
   ]
  },
  {
   "cell_type": "markdown",
   "metadata": {},
   "source": [
    "## How does convolution occur?"
   ]
  },
  {
   "cell_type": "markdown",
   "metadata": {},
   "source": [
    "### The Kernel\n",
    "Convolution occurs through a series of filters applied on an image. The element which is involved in carrying out the convolution itself is called the kernel, which has a size dependent on the matrix. You generally want your kernel to be big enough to capture any dependencies on surrounding pixels. For example, if you're writing a neural network to try to classify faces, you probably want your filter to be big enough to capture an eye, and so on. The whole point of the convolution layer is to take all those dependencies on surrounding pixels and reduce them into a single matrix or value."
   ]
  },
  {
   "cell_type": "markdown",
   "metadata": {},
   "source": [
    "### Stride\n",
    "How many spaces the kernel shifts over for every operation is referred to as the stride. For now, let's assume that the stride is 1 whenever we're using convolution."
   ]
  },
  {
   "cell_type": "markdown",
   "metadata": {},
   "source": [
    "![Animation of convolution](https://github.com/epochml/epoch_intersession_2020-2021/blob/master/images/what-is-cnn/convolution.gif?raw=true)"
   ]
  },
  {
   "cell_type": "markdown",
   "metadata": {},
   "source": [
    "## Pooling"
   ]
  },
  {
   "cell_type": "markdown",
   "metadata": {},
   "source": [
    "Pooling is another strategy to reduce the computational requirements of processing the data by using another kernel to produce another matrix of either the average of the new kernel, or the maximum of the new kernel. It also acts as somewhat of a denoiser to remove unneccessary noise from the image, since you remove the outlying data. "
   ]
  },
  {
   "cell_type": "markdown",
   "metadata": {},
   "source": [
    "### Max Pooling\n",
    "Max Pooling returns the maximum value from the portion of the image that was covered by the kernel. Max pooling has been shown to perform better than average pooling because it reduces the size of the data and denoises.\n",
    "\n",
    "\n",
    "![Animation of max pooling](https://github.com/epochml/epoch_intersession_2020-2021/blob/master/images/what-is-cnn/max-pooling.gif?raw=true)"
   ]
  },
  {
   "cell_type": "markdown",
   "metadata": {},
   "source": [
    "### Average Pooling\n",
    "As you may have guessed, average pooling returns the average value from the portion of the image that was covered by the kernel."
   ]
  },
  {
   "cell_type": "markdown",
   "metadata": {},
   "source": [
    "## What do we do after convolution and pooling?"
   ]
  },
  {
   "cell_type": "markdown",
   "metadata": {},
   "source": [
    "Now that we have convolved and pooled our data to learn the features which represent different types of data, we can use linear neurons, like we used before, to classify the data. However, since the convolution layers feed-forward matricies instead of flattened images with one-dimension, we almost always need to flatten the image into a single dimension so that the Linear layers can process it."
   ]
  },
  {
   "cell_type": "markdown",
   "metadata": {},
   "source": [
    "![MLP classification layer](https://github.com/epochml/epoch_intersession_2020-2021/blob/master/images/what-is-cnn/classification-layer.jpg?raw=true)"
   ]
  },
  {
   "cell_type": "markdown",
   "metadata": {},
   "source": [
    "# Next Steps"
   ]
  },
  {
   "cell_type": "markdown",
   "metadata": {},
   "source": [
    "Now that you know more about convolutional neural networks, we can explore a substantially more accurate way of classifying images using convolutional layers in our neural network. Take a look at the CNN MNIST Classifier notebook to see how that is done."
   ]
  },
  {
   "cell_type": "markdown",
   "metadata": {},
   "source": [
    "# Sources and Further Reading\n",
    "[Medium - Towards Data Science](https://towardsdatascience.com/intuitively-understanding-convolutions-for-deep-learning-1f6f42faee1)\n",
    "\n",
    "[P. Sermanet, S. Chintala and Y. LeCun, \"Convolutional neural networks applied to house numbers digit classification,\" Proceedings of the 21st International Conference on Pattern Recognition (ICPR2012), Tsukuba, 2012, pp. 3288-3291.](https://ieeexplore.ieee.org/abstract/document/6460867)\n",
    "\n",
    "[Stanford CS 231n Notes](https://cs231n.github.io/convolutional-networks/)\n",
    "\n",
    "[UIUC CS 446 Notes](http://mjt.cs.illinois.edu/ml/lec8.pdf)"
   ]
  }
 ],
 "metadata": {
  "kernelspec": {
   "display_name": "Python 3",
   "language": "python",
   "name": "python3"
  },
  "language_info": {
   "codemirror_mode": {
    "name": "ipython",
    "version": 3
   },
   "file_extension": ".py",
   "mimetype": "text/x-python",
   "name": "python",
   "nbconvert_exporter": "python",
   "pygments_lexer": "ipython3",
   "version": "3.8.5"
  }
 },
 "nbformat": 4,
 "nbformat_minor": 4
}
